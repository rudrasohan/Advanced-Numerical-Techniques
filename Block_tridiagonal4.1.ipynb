{
 "cells": [
  {
   "cell_type": "markdown",
   "metadata": {},
   "source": [
    "### Name: Sohan Rudra\n",
    "### Roll No: 16MA20054"
   ]
  },
  {
   "cell_type": "code",
   "execution_count": 1,
   "metadata": {},
   "outputs": [],
   "source": [
    "#library imports\n",
    "import math\n",
    "from collections import namedtuple\n",
    "import numpy as np\n",
    "from numpy.linalg import inv\n",
    "from sympy import symbols\n",
    "import matplotlib.pyplot as plt"
   ]
  },
  {
   "cell_type": "code",
   "execution_count": 2,
   "metadata": {},
   "outputs": [],
   "source": [
    "#some boilerplate code\n",
    "x = symbols('x')\n",
    "Equation = namedtuple('Equation',('a','b'))\n",
    "Conditions = namedtuple('Conditions',('x0','xn','y0','yn','z0','zn','h'))"
   ]
  },
  {
   "cell_type": "code",
   "execution_count": 3,
   "metadata": {},
   "outputs": [
    {
     "data": {
      "text/latex": [
       "\\begin{align}\n",
       "y^{4} + 81y = 81x^2\\\\\n",
       "x \\in (0, 1) \\\\\n",
       "y(0) = 0\\\\\n",
       "y(1) = 1\\\\\n",
       "y''(0) = 0\\\\\n",
       "y''(1) = 1\\\\\n",
       "\\end{align}"
      ],
      "text/plain": [
       "<IPython.core.display.Latex object>"
      ]
     },
     "metadata": {},
     "output_type": "display_data"
    }
   ],
   "source": [
    "%%latex\n",
    "\\begin{align}\n",
    "y^{4} + 81y = 81x^2\\\\\n",
    "x \\in (0, 1) \\\\\n",
    "y(0) = 0\\\\\n",
    "y(1) = 1\\\\\n",
    "y''(0) = 0\\\\\n",
    "y''(1) = 1\\\\\n",
    "\\end{align}"
   ]
  },
  {
   "cell_type": "code",
   "execution_count": 4,
   "metadata": {},
   "outputs": [],
   "source": [
    "def FiniteDiffSolver(eq, cond, verbose=True):\n",
    "    n = int(np.ceil((cond.xn - cond.x0)/cond.h))\n",
    "    a, b, c, d = np.zeros((n-2, 2, 2)), np.zeros((n-1, 2, 2)), np.zeros((n-2, 2, 2)), np.zeros((n-1, 2))\n",
    "    #A\n",
    "    b[0] = np.array([[-2/cond.h**2, -1], [eq.a.subs(x, cond.x0 + cond.h), -2/cond.h**2]])\n",
    "    c[0] = np.array([[1/cond.h**2, 0], [0, 1/cond.h**2]])\n",
    "    b[n-2] = np.array([[-2/cond.h**2, -1], [eq.a.subs(x, cond.xn - cond.h), -2/cond.h**2]])\n",
    "    a[n-3] = np.array([[1/cond.h**2, 0], [0, 1/cond.h**2]])\n",
    "    #d\n",
    "    d[0] = np.array([0, eq.b.subs(x, cond.x0 + cond.h)]) -\\\n",
    "    np.array([[1/cond.h**2, 0], [0, 1/cond.h**2]]).dot(np.array([cond.y0, cond.z0]))\n",
    "    d[n-2] = np.array([0, eq.b.subs(x, cond.xn - cond.h)]) -\\\n",
    "    np.array([[1/cond.h**2, 0], [0, 1/cond.h**2]]).dot(np.array([cond.yn, cond.zn]))\n",
    "    for i, xi in enumerate(np.arange(cond.x0 + 2*cond.h, cond.xn - cond.h, cond.h),\\\n",
    "                           start=1):\n",
    "        a[i-1] = np.array([[1/cond.h**2, 0], [0, 1/cond.h**2]])\n",
    "        b[i] = np.array([[-2/cond.h**2, -1], [eq.a.subs(x, xi), -2/cond.h**2]])\n",
    "        c[i] = np.array([[1/cond.h**2, 0], [0, 1/cond.h**2]])\n",
    "        d[i] = np.array([0, eq.b.subs(x, xi)])\n",
    "        \n",
    "    if verbose:\n",
    "        print(\"A={}, B={}, C={}, D={}\".format(a,b,c,d))\n",
    "        \n",
    "    return (a,b,c,d)"
   ]
  },
  {
   "cell_type": "code",
   "execution_count": 5,
   "metadata": {},
   "outputs": [],
   "source": [
    "def Thomas_Algorithm(coeff, cond):\n",
    "    a, b, c, d = coeff\n",
    "    n = int(np.ceil((cond.xn - cond.x0)/cond.h))\n",
    "    c1 = np.zeros((n-2, 2, 2))\n",
    "    d1 = np.zeros((n-1, 2))\n",
    "    c1[0] = inv(b[0]).dot(c[0])\n",
    "    d1[0] = inv(b[0]).dot(d[0])\n",
    "    for i in range(1,n-2):\n",
    "        t1 = b[i]-a[i-1].dot(c1[i-1])\n",
    "        c1[i] = inv(t1).dot(c[i])\n",
    "        d1[i] = inv(t1).dot(d[i] - a[i-1].dot(d1[i-1]))\n",
    "    d1[n-2] = inv(b[n-2] - a[n-3].dot(c1[n - 3])).dot(d[n-2] - a[n-3].dot(d1[n-3]))\n",
    "    #d1[n-2] = (d[n-2] - a[n-3] * d1[n-3])/(b[n-2] - a[n-3]*c1[n-3])\n",
    "    def backsubstitution(c,d):\n",
    "        y = np.zeros_like(d)\n",
    "        y[-1] = d[-1]\n",
    "        cache = y[-1]\n",
    "        for i in reversed(range(d.shape[0]-1)):\n",
    "            y[i] = d[i] - cache.dot(c[i])\n",
    "            cache = y[i]\n",
    "        return y\n",
    "    fin_y = backsubstitution(c1,d1)\n",
    "    y = np.append(fin_y.T[0], cond.yn)\n",
    "    y = np.append(cond.y0, y)\n",
    "    return y"
   ]
  },
  {
   "cell_type": "code",
   "execution_count": 6,
   "metadata": {},
   "outputs": [],
   "source": [
    "eq = Equation(81 + 0.0*x,81*x**2)\n",
    "cond = Conditions(0, 1, 0, 0, 0, 0, 0.1)\n",
    "ans = FiniteDiffSolver(eq, cond, verbose=False)\n",
    "y1 = Thomas_Algorithm(ans, cond)\n",
    "x_range1 = np.arange(cond.x0, cond.xn+cond.h, cond.h)\n",
    "eq = Equation(81 + 0.0*x,81*x**2)\n",
    "cond = Conditions(0, 1, 0, 0, 0, 0, 0.05)\n",
    "ans = FiniteDiffSolver(eq, cond, verbose=False)\n",
    "y2 = Thomas_Algorithm(ans, cond)\n",
    "x_range2 = np.arange(cond.x0, cond.xn+cond.h, cond.h)\n",
    "eq = Equation(81 + 0.0*x,81*x**2)\n",
    "cond = Conditions(0, 1, 0, 0, 0, 0, 0.01)\n",
    "ans = FiniteDiffSolver(eq, cond, verbose=False)\n",
    "y3 = Thomas_Algorithm(ans, cond)\n",
    "x_range3 = np.arange(cond.x0, cond.xn+cond.h, cond.h)"
   ]
  },
  {
   "cell_type": "code",
   "execution_count": 8,
   "metadata": {},
   "outputs": [
    {
     "data": {
      "image/png": "[encoded data removed]",
      "text/plain": [
       "<Figure size 720x1152 with 1 Axes>"
      ]
     },
     "metadata": {},
     "output_type": "display_data"
    }
   ],
   "source": [
    "t1 = np.arange(cond.x0, cond.xn, 0.001)\n",
    "fig = plt.figure(figsize=(10, 16))\n",
    "ax = fig.add_subplot(311)\n",
    "ax.set(title=\"BVP\", xlabel=\"x\", ylabel=\"y\")\n",
    "ax.scatter(x_range1, y1, color='red')\n",
    "ax.scatter(x_range2, y2, color='blue')\n",
    "ax.scatter(x_range3, y3, color='green')\n",
    "ax.legend(('y_0.1','y_0.05','y_0.01'))\n",
    "ax.plot()\n",
    "fig.show()"
   ]
  }
 ],
 "metadata": {
  "kernelspec": {
   "display_name": "Python 2",
   "language": "python",
   "name": "python2"
  },
  "language_info": {
   "codemirror_mode": {
    "name": "ipython",
    "version": 2
   },
   "file_extension": ".py",
   "mimetype": "text/x-python",
   "name": "python",
   "nbconvert_exporter": "python",
   "pygments_lexer": "ipython2",
   "version": "2.7.15"
  }
 },
 "nbformat": 4,
 "nbformat_minor": 2
}
