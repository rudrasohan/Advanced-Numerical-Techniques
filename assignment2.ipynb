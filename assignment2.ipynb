{
 "cells": [
  {
   "cell_type": "markdown",
   "metadata": {},
   "source": [
    "### Name: Sohan Rudra\n",
    "### Roll No: 16MA20054"
   ]
  },
  {
   "cell_type": "code",
   "execution_count": 20,
   "metadata": {},
   "outputs": [],
   "source": [
    "#library imports\n",
    "import math\n",
    "from collections import namedtuple\n",
    "import numpy as np\n",
    "from sympy import symbols\n",
    "import matplotlib.pyplot as plt"
   ]
  },
  {
   "cell_type": "code",
   "execution_count": 21,
   "metadata": {},
   "outputs": [],
   "source": [
    "#some boilerplate code\n",
    "x = symbols('x')\n",
    "Equation = namedtuple('Equation',('a','b','c'))\n",
    "Conditions = namedtuple('Conditions',('x0','xn','h'))\n",
    "Boundary = namedtuple('Boundary', ('alpha', 'beta', 'gamma'))"
   ]
  },
  {
   "cell_type": "code",
   "execution_count": 22,
   "metadata": {},
   "outputs": [],
   "source": [
    "def Finite_Diff_Solver(eq, bc0, bcn, cond, verbose=True):\n",
    "    n = int(np.ceil((cond.xn - cond.x0)/cond.h))\n",
    "    a, b, c, d = np.zeros((n-2)), np.zeros((n-1)), np.zeros((n-2)), np.zeros((n-1))\n",
    "    #A\n",
    "    b[0] = -2.0 / cond.h**2 + eq.b.subs(x, (cond.x0 + cond.h)) -\\\n",
    "    2.0 * bc0.beta * (1.0 / cond.h**2 - eq.a.subs(x, (cond.x0 + cond.h)) / (2.0 * cond.h)) /\\\n",
    "    (bc0.alpha * cond.h - 1.5 * bc0.beta)\n",
    "    c[0] = 1.0 / cond.h**2 + eq.a.subs(x, (cond.x0 + cond.h)) / (2.0 * cond.h) +\\\n",
    "    0.5 * bc0.beta * (1.0 / cond.h**2 - eq.a.subs(x, (cond.x0 + cond.h)) / (2.0 * cond.h)) /\\\n",
    "    (bc0.alpha * cond.h - 1.5 * bc0.beta)\n",
    "    a[n-3] = 1.0 / cond.h**2 - eq.a.subs(x, (cond.xn - cond.h)) / (2.0 * cond.h) -\\\n",
    "    0.5 * bcn.beta * (1.0 / cond.h**2 + eq.a.subs(x, (cond.xn - cond.h)) / (2.0 * cond.h)) /\\\n",
    "    (bcn.alpha * cond.h + 1.5 * bcn.beta)\n",
    "    b[n-2] = -2.0 / cond.h**2 + eq.b.subs(x, (cond.xn - cond.h)) +\\\n",
    "    2.0 * bcn.beta * (1.0 / cond.h**2 + eq.a.subs(x, (cond.xn - cond.h)) / (2.0 * cond.h)) /\\\n",
    "    (bcn.alpha * cond.h + 1.5 * bcn.beta)\n",
    "    #d\n",
    "    d[0] = eq.c.subs(x,cond.x0) -\\\n",
    "    bc0.gamma * (1.0 / cond.h**2 - eq.a.subs(x, (cond.x0 + cond.h)) / (2.0 * cond.h)) /\\\n",
    "    (bc0.alpha - 1.5 * bc0.beta / cond.h)\n",
    "    d[n-2] = eq.c.subs(x, (cond.xn-cond.h)) -\\\n",
    "    bcn.gamma * (1.0 / cond.h**2 + eq.a.subs(x, (cond.xn - cond.h)) / (2.0 * cond.h)) /\\\n",
    "    (bcn.alpha + 1.5 * bcn.beta / cond.h)\n",
    "    for i, xi in enumerate(np.arange(cond.x0 + 2*cond.h, cond.xn - cond.h, cond.h),\\\n",
    "                           start=1):\n",
    "        a[i-1] = 1.0 / cond.h**2 - eq.a.subs(x,xi) / (2.0*cond.h)\n",
    "        b[i] = -2.0 / cond.h**2 + eq.b\n",
    "        c[i] = 1.0 / cond.h**2 + eq.a.subs(x,xi) / (2.0*cond.h)\n",
    "        d[i] = eq.c.subs(x,xi)\n",
    "    \n",
    "    def tridiag(a, b, c, k1=-1, k2=0, k3=1):\n",
    "        return np.diag(a, k1) + np.diag(b, k2) + np.diag(c, k3)\n",
    "    if verbose:\n",
    "        print(\"A={}\".format(tridiag(a,b,c)))\n",
    "        print(\"d={}\".format(d.T))\n",
    "    return (a,b,c,d)"
   ]
  },
  {
   "cell_type": "code",
   "execution_count": 23,
   "metadata": {},
   "outputs": [],
   "source": [
    "def Thomas_Algorithm(coeff, bc0, bcn, cond):\n",
    "    a, b, c, d = coeff\n",
    "    n = b.shape[0] + 1\n",
    "    c1 = np.zeros((n-2))\n",
    "    d1 = np.zeros((n-1))\n",
    "    c1[0] = c[0]/b[0]\n",
    "    d1[0] = d[0]/b[0]\n",
    "    for i in range(1,n-2):\n",
    "        c1[i] = c[i]/(b[i]-a[i-1]*c1[i-1])\n",
    "        d1[i] = (d[i] - a[i-1] * d1[i-1])/(b[i]-a[i-1]*c1[i-1])\n",
    "    d1[n-2] = (d[n-2] - a[n-3] * d1[n-3])/(b[n-2] - a[n-3]*c1[n-3])\n",
    "    def backsubstitution(c,d):\n",
    "        y = np.zeros_like(d)\n",
    "        y[-1] = d[-1]\n",
    "        cache = y[-1]\n",
    "        for i in reversed(range(d.shape[0]-1)):\n",
    "            y[i] = d[i] - cache * c[i]\n",
    "            cache = y[i]\n",
    "        return y\n",
    "    fin_y = backsubstitution(c1,d1)\n",
    "    y0 = (bc0.gamma - 2.0 * bc0.beta * fin_y[0] / cond.h + 0.5 * bc0.beta * fin_y[1] / cond.h) /\\\n",
    "    (bc0.alpha - 1.5 * bc0.beta / cond.h)\n",
    "    yn = (bcn.gamma + 2.0 * bcn.beta * fin_y[-1] / cond.h - 0.5 * bcn.beta * fin_y[-2] / cond.h) /\\\n",
    "    (bcn.alpha + 1.5 * bcn.beta / cond.h)\n",
    "    y = np.append(fin_y, yn)\n",
    "    y = np.append(y0, y)\n",
    "    return y\n",
    "    "
   ]
  },
  {
   "cell_type": "code",
   "execution_count": 24,
   "metadata": {},
   "outputs": [
    {
     "data": {
      "text/latex": [
       "\\begin{align}\n",
       "\\theta'' -\\lambda\\theta = 0\\\\\n",
       "x \\in (0,1) \\\\\n",
       "\\theta(0) = 1\\\\\n",
       "\\theta'(1) = 0 \\\\\n",
       "\\lambda = 2\n",
       "\\end{align}"
      ],
      "text/plain": [
       "<IPython.core.display.Latex object>"
      ]
     },
     "metadata": {},
     "output_type": "display_data"
    }
   ],
   "source": [
    "%%latex\n",
    "\\begin{align}\n",
    "\\theta'' -\\lambda\\theta = 0\\\\\n",
    "x \\in (0,1) \\\\\n",
    "\\theta(0) = 1\\\\\n",
    "\\theta'(1) = 0 \\\\\n",
    "\\lambda = 2\n",
    "\\end{align}"
   ]
  },
  {
   "cell_type": "code",
   "execution_count": 25,
   "metadata": {},
   "outputs": [],
   "source": [
    "#Equations & Boundary Conditions\n",
    "eqn = Equation(0.0 + 0.0*x,-2.0 + x*0.0,0.0 + 0.0*x)\n",
    "cond = Conditions(0,1,0.25)\n",
    "bc1 = Boundary(1,0,1)\n",
    "bc2 = Boundary(0,1,0)\n",
    "tuples_coeff = Finite_Diff_Solver(eqn, bc1, bc2, cond, verbose=False)\n",
    "y1 = Thomas_Algorithm(tuples_coeff, bc1, bc2, cond)\n",
    "x_range1 = np.arange(cond.x0, cond.xn+cond.h, cond.h)\n",
    "\n",
    "def func(x): #original solution\n",
    "    y = (np.exp((math.sqrt(2.0) * x)) +\\\n",
    "    math.exp((math.sqrt(2.0) * 2.0)) * np.exp((math.sqrt(2.0) * -x))) /\\\n",
    "    (math.exp((math.sqrt(2.0) * 2.0)) + 1.0)\n",
    "    return y"
   ]
  },
  {
   "cell_type": "code",
   "execution_count": 26,
   "metadata": {},
   "outputs": [
    {
     "data": {
      "text/latex": [
       "\\begin{align}\n",
       "y'' -2xy' -2y = -4x\\\\\n",
       "x \\in (0,1) \\\\\n",
       "y(0) - y'(0) = 0\\\\\n",
       "2y(1) - y'(1) = 1\\\\\n",
       "\\end{align}"
      ],
      "text/plain": [
       "<IPython.core.display.Latex object>"
      ]
     },
     "metadata": {},
     "output_type": "display_data"
    }
   ],
   "source": [
    "%%latex\n",
    "\\begin{align}\n",
    "y'' -2xy' -2y = -4x\\\\\n",
    "x \\in (0,1) \\\\\n",
    "y(0) - y'(0) = 0\\\\\n",
    "2y(1) - y'(1) = 1\\\\\n",
    "\\end{align}"
   ]
  },
  {
   "cell_type": "code",
   "execution_count": 32,
   "metadata": {},
   "outputs": [
    {
     "name": "stdout",
     "output_type": "stream",
     "text": [
      "(11,)\n"
     ]
    }
   ],
   "source": [
    "#Equations & Boundary Conditions\n",
    "eqn = Equation(-2.0*x,-2.0 + x*0.0,-4.0*x)\n",
    "cond = Conditions(0,1,0.1)\n",
    "bc1 = Boundary(1,-1,0)\n",
    "bc2 = Boundary(2,-1,1)\n",
    "tuples_coeff = Finite_Diff_Solver(eqn, bc1, bc2, cond, verbose=False)\n",
    "y2 = Thomas_Algorithm(tuples_coeff, bc1, bc2, cond)\n",
    "x_range2 = np.arange(cond.x0, cond.xn+cond.h, cond.h)\n",
    "print(y2.shape)"
   ]
  },
  {
   "cell_type": "code",
   "execution_count": 28,
   "metadata": {},
   "outputs": [
    {
     "data": {
      "text/latex": [
       "\\begin{align}\n",
       "y'' + y = 0\\\\\n",
       "x \\in (0,1) \\\\\n",
       "y(0) = 0\\\\\n",
       "y(1) = 1\\\\\n",
       "\\end{align}"
      ],
      "text/plain": [
       "<IPython.core.display.Latex object>"
      ]
     },
     "metadata": {},
     "output_type": "display_data"
    }
   ],
   "source": [
    "%%latex\n",
    "\\begin{align}\n",
    "y'' + y = 0\\\\\n",
    "x \\in (0,1) \\\\\n",
    "y(0) = 0\\\\\n",
    "y(1) = 1\\\\\n",
    "\\end{align}"
   ]
  },
  {
   "cell_type": "code",
   "execution_count": 29,
   "metadata": {},
   "outputs": [],
   "source": [
    "eqn = Equation(0.0 + 0.0*x,1.0 + 0.0*x,0.0*x)\n",
    "cond = Conditions(0,1,0.1)\n",
    "bc1 = Boundary(1,0,0)\n",
    "bc2 = Boundary(1,0,1) \n",
    "tuples_coeff = Finite_Diff_Solver(eqn, bc1, bc2, cond, verbose=False)\n",
    "y3 = Thomas_Algorithm(tuples_coeff, bc1, bc2, cond)\n",
    "x_range3 = np.arange(cond.x0, cond.xn+cond.h, cond.h)\n",
    "def func2(x): #original solution\n",
    "    return np.sin(x)/np.sin(1)"
   ]
  },
  {
   "cell_type": "code",
   "execution_count": 30,
   "metadata": {},
   "outputs": [
    {
     "data": {
      "image/png": "[encoded data removed]",
      "text/plain": [
       "<Figure size 720x1152 with 3 Axes>"
      ]
     },
     "metadata": {},
     "output_type": "display_data"
    }
   ],
   "source": [
    "t1 = np.arange(cond.x0, cond.xn, 0.001)\n",
    "\n",
    "#print(x_range)\n",
    "fig = plt.figure(figsize=(10, 16))\n",
    "ax = fig.add_subplot(311)\n",
    "ax.plot(t1, func(t1))\n",
    "ax.set(title=\"BVP h=0.25\", xlabel=\"x\", ylabel=\"y\")\n",
    "ax.scatter(x_range1, y1, color='red')\n",
    "ax.legend(('y','y_0.25'))\n",
    "ax.plot()\n",
    "ax = fig.add_subplot(312)\n",
    "ax.set(title=\"BVP h=0.1\", xlabel=\"x\", ylabel=\"y\")\n",
    "ax.scatter(x_range2, y2, color='red')\n",
    "ax.legend(('y','y_0.1'))\n",
    "ax.plot()\n",
    "ax = fig.add_subplot(313)\n",
    "ax.plot(t1, func2(t1))\n",
    "ax.set(title=\"BVP h=0.1\", xlabel=\"x\", ylabel=\"y\")\n",
    "ax.scatter(x_range3, y3, color='red')\n",
    "ax.legend(('y','y_0.1'))\n",
    "ax.plot()\n",
    "fig.show()"
   ]
  }
 ],
 "metadata": {
  "kernelspec": {
   "display_name": "Python 3",
   "language": "python",
   "name": "python3"
  },
  "language_info": {
   "codemirror_mode": {
    "name": "ipython",
    "version": 2
   },
   "file_extension": ".py",
   "mimetype": "text/x-python",
   "name": "python",
   "nbconvert_exporter": "python",
   "pygments_lexer": "ipython2",
   "version": "2.7.15"
  }
 },
 "nbformat": 4,
 "nbformat_minor": 2
}
