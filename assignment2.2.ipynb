{
 "cells": [
  {
   "cell_type": "markdown",
   "metadata": {},
   "source": [
    "### Name: Sohan Rudra\n",
    "### Roll No: 16MA20054"
   ]
  },
  {
   "cell_type": "code",
   "execution_count": 29,
   "metadata": {},
   "outputs": [],
   "source": [
    "#library imports\n",
    "import math\n",
    "from collections import namedtuple\n",
    "import numpy as np\n",
    "from sympy import symbols\n",
    "import matplotlib.pyplot as plt"
   ]
  },
  {
   "cell_type": "code",
   "execution_count": 30,
   "metadata": {},
   "outputs": [],
   "source": [
    "#some boilerplate code\n",
    "x = symbols('x')\n",
    "Equation = namedtuple('Equation',('a','b','c'))\n",
    "Conditions = namedtuple('Conditions',('x0','xn','h'))\n",
    "Boundary = namedtuple('Boundary', ('alpha', 'beta', 'gamma'))"
   ]
  },
  {
   "cell_type": "code",
   "execution_count": 31,
   "metadata": {},
   "outputs": [],
   "source": [
    "def Finite_Diff_Solver(eq, bc0, bcn, cond, verbose=True):\n",
    "    n = int(np.ceil((cond.xn - cond.x0)/cond.h))\n",
    "    a, b, c, d = np.zeros((n)), np.zeros((n+1)), np.zeros((n)), np.zeros((n+1))\n",
    "    #A\n",
    "    b[0] = -2.0 / cond.h**2 + eq.b.subs(x, cond.x0) +\\\n",
    "    (1.0 / cond.h**2 - eq.a.subs(x, cond.x0) / (2.0 * cond.h)) *\\\n",
    "    2.0 * cond.h * bc0.alpha / bc0.beta\n",
    "    c[0] = 2.0 / cond.h**2 \n",
    "\n",
    "    a[n-1] = 2.0 / cond.h**2 \n",
    "    b[n] = -2.0 / cond.h**2 + eq.b.subs(x, cond.xn) -\\\n",
    "    (1.0 / cond.h**2 + eq.a.subs(x, cond.xn) / (2.0 * cond.h)) *\\\n",
    "    2.0 * cond.h * bcn.alpha / bcn.beta\n",
    "    \n",
    "    #d\n",
    "    d[0] = eq.c.subs(x, cond.x0) +\\\n",
    "    (1.0 / cond.h**2 - eq.a.subs(x, cond.x0) / (2.0 * cond.h)) *\\\n",
    "    2.0 * cond.h * bc0.gamma / bc0.beta\n",
    "    d[n] = eq.c.subs(x, cond.xn) -\\\n",
    "    (1.0 / cond.h**2 + eq.a.subs(x, cond.xn) / (2.0 * cond.h)) *\\\n",
    "    2.0 * cond.h * bcn.gamma / bcn.beta\n",
    "    for i, xi in enumerate(np.arange(cond.x0 + cond.h, cond.xn, cond.h),\\\n",
    "                           start=1):\n",
    "        a[i-1] = 1.0 / cond.h**2 - eq.a.subs(x,xi) / (2.0*cond.h)\n",
    "        b[i] = -2.0 / cond.h**2 + eq.b.subs(x, xi)\n",
    "        c[i] = 1.0 / cond.h**2 + eq.a.subs(x,xi) / (2.0*cond.h)\n",
    "        d[i] = eq.c.subs(x, xi)\n",
    "    \n",
    "    def tridiag(a, b, c, k1=-1, k2=0, k3=1):\n",
    "        return np.diag(a, k1) + np.diag(b, k2) + np.diag(c, k3)\n",
    "    if verbose:\n",
    "        print(\"A={}\".format(tridiag(a,b,c)))\n",
    "        print(\"d={}\".format(d.T))\n",
    "    return (a,b,c,d)"
   ]
  },
  {
   "cell_type": "code",
   "execution_count": 32,
   "metadata": {},
   "outputs": [],
   "source": [
    "def Thomas_Algorithm(coeff, bc0, bcn, cond):\n",
    "    a, b, c, d = coeff\n",
    "    n = int(np.ceil((cond.xn - cond.x0)/cond.h))\n",
    "    c1 = np.zeros((n))\n",
    "    d1 = np.zeros((n+1))\n",
    "    c1[0] = c[0]/b[0]\n",
    "    d1[0] = d[0]/b[0]\n",
    "    for i in range(1,n):\n",
    "        c1[i] = c[i]/(b[i]-a[i-1]*c1[i-1])\n",
    "        d1[i] = (d[i] - a[i-1] * d1[i-1])/(b[i]-a[i-1]*c1[i-1])\n",
    "    d1[n] = (d[n] - a[n-1] * d1[n-1])/(b[n] - a[n-1]*c1[n-1])\n",
    "    def backsubstitution(c,d):\n",
    "        y = np.zeros_like(d)\n",
    "        y[-1] = d[-1]\n",
    "        cache = y[-1]\n",
    "        for i in reversed(range(d.shape[0]-1)):\n",
    "            y[i] = d[i] - cache * c[i]\n",
    "            cache = y[i]\n",
    "        return y\n",
    "    fin_y = backsubstitution(c1,d1)\n",
    "    return fin_y\n",
    "    "
   ]
  },
  {
   "cell_type": "code",
   "execution_count": 33,
   "metadata": {},
   "outputs": [
    {
     "data": {
      "text/latex": [
       "\\begin{align}\n",
       "y'' -2xy' -2y = -4x\\\\\n",
       "x \\in (0,1) \\\\\n",
       "y(0) - y'(0) = 0\\\\\n",
       "2y(1) - y'(1) = 1\\\\\n",
       "\\end{align}"
      ],
      "text/plain": [
       "<IPython.core.display.Latex object>"
      ]
     },
     "metadata": {},
     "output_type": "display_data"
    }
   ],
   "source": [
    "%%latex\n",
    "\\begin{align}\n",
    "y'' -2xy' -2y = -4x\\\\\n",
    "x \\in (0,1) \\\\\n",
    "y(0) - y'(0) = 0\\\\\n",
    "2y(1) - y'(1) = 1\\\\\n",
    "\\end{align}"
   ]
  },
  {
   "cell_type": "code",
   "execution_count": 34,
   "metadata": {
    "scrolled": true
   },
   "outputs": [],
   "source": [
    "#Equations & Boundary Conditions\n",
    "eqn = Equation(-2.0*x,-2.0 + x*0.0,-4.0*x)\n",
    "bc1 = Boundary(1,-1,0)\n",
    "bc2 = Boundary(2,-1,1)\n",
    "cond1 = Conditions(0,1,0.1)\n",
    "tuples_coeff = Finite_Diff_Solver(eqn, bc1, bc2, cond1, verbose=False)\n",
    "y1 = Thomas_Algorithm(tuples_coeff, bc1, bc2, cond1)\n",
    "x_range1 = np.arange(cond1.x0, cond1.xn+cond1.h, cond1.h)\n",
    "cond2 = Conditions(0,1,0.05)\n",
    "tuples_coeff = Finite_Diff_Solver(eqn, bc1, bc2, cond2, verbose=False)\n",
    "y2 = Thomas_Algorithm(tuples_coeff, bc1, bc2, cond2)\n",
    "x_range2 = np.arange(cond2.x0, cond2.xn+cond2.h, cond2.h)\n",
    "cond3 = Conditions(0,1,0.001)\n",
    "tuples_coeff = Finite_Diff_Solver(eqn, bc1, bc2, cond3, verbose=False)\n",
    "y3 = Thomas_Algorithm(tuples_coeff, bc1, bc2, cond3)\n",
    "x_range3 = np.arange(cond3.x0, cond3.xn+cond3.h, cond3.h)\n",
    "cond4 = Conditions(0,1,0.0005)\n",
    "tuples_coeff = Finite_Diff_Solver(eqn, bc1, bc2, cond4, verbose=False)\n",
    "y4 = Thomas_Algorithm(tuples_coeff, bc1, bc2, cond4)\n",
    "x_range4 = np.arange(cond4.x0, cond4.xn+cond4.h, cond4.h)"
   ]
  },
  {
   "cell_type": "code",
   "execution_count": 35,
   "metadata": {},
   "outputs": [
    {
     "data": {
      "image/png": "[encoded data removed]",
      "text/plain": [
       "<Figure size 1152x2880 with 1 Axes>"
      ]
     },
     "metadata": {},
     "output_type": "display_data"
    }
   ],
   "source": [
    "t1 = np.arange(cond.x0, cond.xn, 0.001)\n",
    "\n",
    "#print(x_range)\n",
    "fig = plt.figure(figsize=(16, 40))\n",
    "ax = fig.add_subplot(311)\n",
    "ax.set(title=\"BVP h=0.1\", xlabel=\"x\", ylabel=\"y\")\n",
    "ax.scatter(x_range1, y1, color='red')\n",
    "ax.scatter(x_range2, y2, color='yellow')\n",
    "ax.scatter(x_range3, y3, color='blue')\n",
    "ax.scatter(x_range4, y4, color='green')\n",
    "ax.legend(('y_0.1','y_0.05','y_0.001','y_0.0005'))\n",
    "ax.plot()\n",
    "fig.show()"
   ]
  }
 ],
 "metadata": {
  "kernelspec": {
   "display_name": "Python 3",
   "language": "python",
   "name": "python3"
  },
  "language_info": {
   "codemirror_mode": {
    "name": "ipython",
    "version": 2
   },
   "file_extension": ".py",
   "mimetype": "text/x-python",
   "name": "python",
   "nbconvert_exporter": "python",
   "pygments_lexer": "ipython2",
   "version": "2.7.15"
  }
 },
 "nbformat": 4,
 "nbformat_minor": 2
}
