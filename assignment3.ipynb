{
 "cells": [
  {
   "cell_type": "markdown",
   "metadata": {},
   "source": [
    "### Name: Sohan Rudra\n",
    "### Roll No: 16MA20054"
   ]
  },
  {
   "cell_type": "code",
   "execution_count": 13,
   "metadata": {},
   "outputs": [],
   "source": [
    "#library imports\n",
    "import math\n",
    "from collections import namedtuple\n",
    "import numpy as np\n",
    "from sympy import symbols\n",
    "import matplotlib.pyplot as plt"
   ]
  },
  {
   "cell_type": "code",
   "execution_count": 14,
   "metadata": {},
   "outputs": [],
   "source": [
    "#some boilerplate code\n",
    "x = symbols('x')\n",
    "Equation = namedtuple('Equation',('a','b','c'))\n",
    "Conditions = namedtuple('Conditions',('x0','xn','h'))\n",
    "Boundary = namedtuple('Boundary', ('alpha', 'beta', 'gamma'))"
   ]
  },
  {
   "cell_type": "code",
   "execution_count": 43,
   "metadata": {},
   "outputs": [],
   "source": [
    "def Finite_Diff_Solver(eq, bc0, bcn, cond, verbose=True):\n",
    "    n = int(np.ceil((cond.xn - cond.x0)/cond.h))\n",
    "    print(n)\n",
    "    a, b, c, d = np.zeros((n)), np.zeros((n+1)), np.zeros((n)), np.zeros((n+1))\n",
    "    #A\n",
    "    b[0] = -2.0 / cond.h**2 + eq.b.subs(x, cond.x0) +\\\n",
    "    (1.0 / cond.h**2 - eq.a.subs(x, cond.x0) / (2.0 * cond.h)) * 2.0 * cond.h * bc0.alpha /\\\n",
    "    bc0.beta\n",
    "    c[0] = 2.0 / cond.h**2 \n",
    "\n",
    "    a[n-1] = 2.0 / cond.h**2 \n",
    "    b[n] = -2.0 / cond.h**2 + eq.b.subs(x, cond.xn) -\\\n",
    "    (1.0 / cond.h**2 + eq.a.subs(x, cond.xn) / (2.0 * cond.h)) * 2.0 * cond.h * bcn.alpha /\\\n",
    "    bcn.beta\n",
    "    \n",
    "    #d\n",
    "    d[0] = eq.c.subs(x, cond.x0) +\\\n",
    "    (1.0 / cond.h**2 - eq.a.subs(x, cond.x0) / (2.0 * cond.h)) * 2.0 * cond.h * bc0.gamma /\\\n",
    "    bc0.beta\n",
    "    d[n] = eq.c.subs(x, cond.xn) -\\\n",
    "    (1.0 / cond.h**2 + eq.a.subs(x, cond.xn) / (2.0 * cond.h)) * 2.0 * cond.h * bcn.gamma /\\\n",
    "    bcn.beta\n",
    "    for i, xi in enumerate(np.arange(cond.x0 + cond.h, cond.xn, cond.h),\\\n",
    "                           start=1):\n",
    "        a[i-1] = 1.0 / cond.h**2 - eq.a.subs(x,xi) / (2.0*cond.h)\n",
    "        b[i] = -2.0 / cond.h**2 + eq.b.subs(x, xi)\n",
    "        c[i] = 1.0 / cond.h**2 + eq.a.subs(x,xi) / (2.0*cond.h)\n",
    "        d[i] = eq.c.subs(x, xi)\n",
    "    \n",
    "    def tridiag(a, b, c, k1=-1, k2=0, k3=1):\n",
    "        return np.diag(a, k1) + np.diag(b, k2) + np.diag(c, k3)\n",
    "    if verbose:\n",
    "        print(\"A={}\".format(tridiag(a,b,c)))\n",
    "        print(\"d={}\".format(d.T))\n",
    "    return (a,b,c,d)"
   ]
  },
  {
   "cell_type": "code",
   "execution_count": 48,
   "metadata": {},
   "outputs": [],
   "source": [
    "def Thomas_Algorithm(coeff, bc0, bcn, cond):\n",
    "    a, b, c, d = coeff\n",
    "    n = int(np.ceil((cond.xn - cond.x0)/cond.h))\n",
    "    c1 = np.zeros((n))\n",
    "    d1 = np.zeros((n+1))\n",
    "    c1[0] = c[0]/b[0]\n",
    "    d1[0] = d[0]/b[0]\n",
    "    for i in range(1,n):\n",
    "        c1[i] = c[i]/(b[i]-a[i-1]*c1[i-1])\n",
    "        d1[i] = (d[i] - a[i-1] * d1[i-1])/(b[i]-a[i-1]*c1[i-1])\n",
    "    d1[n] = (d[n] - a[n-1] * d1[n-1])/(b[n] - a[n-1]*c1[n-1])\n",
    "    def backsubstitution(c,d):\n",
    "        y = np.zeros_like(d)\n",
    "        y[-1] = d[-1]\n",
    "        cache = y[-1]\n",
    "        for i in reversed(range(d.shape[0]-1)):\n",
    "            y[i] = d[i] - cache * c[i]\n",
    "            cache = y[i]\n",
    "        return y\n",
    "    fin_y = backsubstitution(c1,d1)\n",
    "    return fin_y\n",
    "    "
   ]
  },
  {
   "cell_type": "code",
   "execution_count": 34,
   "metadata": {},
   "outputs": [
    {
     "data": {
      "text/latex": [
       "\\begin{align}\n",
       "y'' -2xy' -2y = -4x\\\\\n",
       "x \\in (0,1) \\\\\n",
       "y(0) - y'(0) = 0\\\\\n",
       "2y(1) - y'(1) = 1\\\\\n",
       "\\end{align}"
      ],
      "text/plain": [
       "<IPython.core.display.Latex object>"
      ]
     },
     "metadata": {},
     "output_type": "display_data"
    }
   ],
   "source": [
    "%%latex\n",
    "\\begin{align}\n",
    "y'' -2xy' -2y = -4x\\\\\n",
    "x \\in (0,1) \\\\\n",
    "y(0) - y'(0) = 0\\\\\n",
    "2y(1) - y'(1) = 1\\\\\n",
    "\\end{align}"
   ]
  },
  {
   "cell_type": "code",
   "execution_count": 61,
   "metadata": {
    "scrolled": true
   },
   "outputs": [
    {
     "name": "stdout",
     "output_type": "stream",
     "text": [
      "1000\n"
     ]
    }
   ],
   "source": [
    "#Equations & Boundary Conditions\n",
    "eqn = Equation(-2.0*x,-2.0 + x*0.0,-4.0*x)\n",
    "cond = Conditions(0,1,0.001)\n",
    "bc1 = Boundary(1,-1,0)\n",
    "bc2 = Boundary(2,-1,1)\n",
    "tuples_coeff = Finite_Diff_Solver(eqn, bc1, bc2, cond, verbose=False)\n",
    "y2 = Thomas_Algorithm(tuples_coeff, bc1, bc2, cond)\n",
    "x_range2 = np.arange(cond.x0, cond.xn+cond.h, cond.h)"
   ]
  },
  {
   "cell_type": "code",
   "execution_count": 59,
   "metadata": {},
   "outputs": [
    {
     "name": "stdout",
     "output_type": "stream",
     "text": [
      "[0.9997962  1.00482018 1.00989415 1.01501812 1.02019212 1.02541617\n",
      " 1.0306903  1.03601455 1.04138898 1.04681363 1.05228858 1.0578139\n",
      " 1.06338965 1.06901594 1.07469285 1.08042049 1.08619896 1.09202839\n",
      " 1.0979089  1.10384061 1.10982368 1.11585825 1.12194447 1.12808252\n",
      " 1.13427255 1.14051476 1.14680934 1.15315646 1.15955636 1.16600922\n",
      " 1.17251528 1.17907477 1.18568792 1.19235498 1.1990762  1.20585184\n",
      " 1.21268219 1.21956751 1.2265081  1.23350426 1.24055628 1.2476645\n",
      " 1.25482923 1.2620508  1.26932957 1.27666588 1.28406009 1.29151258\n",
      " 1.29902373 1.30659393 1.31422358 1.32191309 1.32966287 1.33747337\n",
      " 1.34534503 1.35327828 1.3612736  1.36933146 1.37745235 1.38563674\n",
      " 1.39388516 1.40219811 1.41057613 1.41901975 1.42752952 1.43610601\n",
      " 1.44474978 1.45346143 1.46224155 1.47109075 1.48000966 1.4889989\n",
      " 1.49805914 1.50719102 1.51639523 1.52567244 1.53502337 1.54444872\n",
      " 1.55394923 1.56352564 1.5731787  1.58290918 1.59271788 1.60260559\n",
      " 1.61257314 1.62262134 1.63275105 1.64296314 1.65325847 1.66363796\n",
      " 1.6741025  1.68465304 1.69529051 1.70601587 1.71683012 1.72773425\n",
      " 1.73872928 1.74981623 1.76099618 1.77227019 1.78363935 1.79510479\n",
      " 1.80666762 1.81832901 1.83009013 1.84195217 1.85391635 1.86598392\n",
      " 1.87815612 1.89043425 1.90281961 1.91531353 1.92791736 1.94063248\n",
      " 1.95346029 1.96640221 1.97945971 1.99263425 2.00592734 2.01934051\n",
      " 2.03287531 2.04653334 2.06031621 2.07422555 2.08826304 2.10243037\n",
      " 2.11672929 2.13116154 2.14572893 2.16043327 2.17527643 2.19026029\n",
      " 2.20538677 2.22065783 2.23607547 2.2516417  2.2673586  2.28322826\n",
      " 2.29925282 2.31543445 2.33177537 2.34827784 2.36494413 2.3817766\n",
      " 2.3987776  2.41594957 2.43329496 2.45081628 2.46851608 2.48639695\n",
      " 2.50446154 2.52271253 2.54115267 2.55978475 2.57861159 2.59763609\n",
      " 2.61686119 2.63628988 2.65592521 2.67577029 2.69582827 2.71610237\n",
      " 2.73659586 2.75731208 2.77825443 2.79942636 2.82083139 2.8424731\n",
      " 2.86435516 2.88648126 2.9088552  2.93148083 2.95436208 2.97750293\n",
      " 3.00090748 3.02457985 3.04852428 3.07274506 3.09724657 3.12203328\n",
      " 3.14710972 3.17248054 3.19815044 3.22412422 3.25040679 3.27700311\n",
      " 3.30391828 3.33115746 3.35872593 3.38662904 3.41487228 3.44346122\n",
      " 3.47240153 3.50169901 3.53135954 3.56138913 3.59179392 3.62258013\n",
      " 3.65375412 3.68532237 3.71729149]\n"
     ]
    }
   ],
   "source": [
    "print(y2)"
   ]
  },
  {
   "cell_type": "code",
   "execution_count": 57,
   "metadata": {},
   "outputs": [
    {
     "data": {
      "image/png": "[encoded data removed]",
      "text/plain": [
       "<Figure size 720x1152 with 1 Axes>"
      ]
     },
     "metadata": {},
     "output_type": "display_data"
    }
   ],
   "source": [
    "t1 = np.arange(cond.x0, cond.xn, 0.001)\n",
    "\n",
    "#print(x_range)\n",
    "fig = plt.figure(figsize=(10, 16))\n",
    "ax = fig.add_subplot(311)\n",
    "ax.set(title=\"BVP h=0.1\", xlabel=\"x\", ylabel=\"y\")\n",
    "ax.scatter(x_range2, y2, color='red')\n",
    "ax.legend(('y','y_0.1'))\n",
    "ax.plot()\n",
    "fig.show()"
   ]
  }
 ],
 "metadata": {
  "kernelspec": {
   "display_name": "Python 3",
   "language": "python",
   "name": "python3"
  },
  "language_info": {
   "codemirror_mode": {
    "name": "ipython",
    "version": 2
   },
   "file_extension": ".py",
   "mimetype": "text/x-python",
   "name": "python",
   "nbconvert_exporter": "python",
   "pygments_lexer": "ipython2",
   "version": "2.7.15"
  }
 },
 "nbformat": 4,
 "nbformat_minor": 2
}
