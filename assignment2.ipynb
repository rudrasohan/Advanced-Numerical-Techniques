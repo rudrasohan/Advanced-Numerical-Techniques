{
 "cells": [
  {
   "cell_type": "markdown",
   "metadata": {},
   "source": [
    "### Name: Sohan Rudra\n",
    "### Roll No: 16MA20054"
   ]
  },
  {
   "cell_type": "code",
   "execution_count": 23,
   "metadata": {},
   "outputs": [],
   "source": [
    "#library imports\n",
    "import math\n",
    "from collections import namedtuple\n",
    "import numpy as np\n",
    "from sympy import symbols\n",
    "import matplotlib.pyplot as plt"
   ]
  },
  {
   "cell_type": "code",
   "execution_count": 24,
   "metadata": {},
   "outputs": [],
   "source": [
    "#some boilerplate code\n",
    "x = symbols('x')\n",
    "Equation = namedtuple('Equation',('a','b','c'))\n",
    "Conditions = namedtuple('Conditions',('x0','xn','h'))\n",
    "Boundary = namedtuple('Boundary', ('alpha', 'beta', 'gamma'))"
   ]
  },
  {
   "cell_type": "code",
   "execution_count": 53,
   "metadata": {},
   "outputs": [],
   "source": [
    "def Finite_Diff_Solver(eq, bc0, bcn, cond, verbose=True):\n",
    "    n = int(np.ceil((cond.xn - cond.x0)/cond.h))\n",
    "    a, b, c, d = np.zeros((n-2)), np.zeros((n-1)), np.zeros((n-2)), np.zeros((n-1))\n",
    "    #A\n",
    "    b[0] = -2.0 / cond.h**2 + eq.b.subs(x, (cond.x0 + cond.h)) -\\\n",
    "    2.0 * bc0.beta * (1.0 / cond.h**2 - eq.a.subs(x, (cond.x0 + cond.h)) / (2.0 * cond.h)) /\\\n",
    "    (bc0.alpha * cond.h - 1.5 * bc0.beta)\n",
    "    c[0] = 1.0 / cond.h**2 + eq.a.subs(x, (cond.x0 + cond.h)) / (2.0 * cond.h) +\\\n",
    "    0.5 * bc0.beta * (1.0 / cond.h**2 - eq.a.subs(x, (cond.x0 + cond.h)) / (2.0 * cond.h)) /\\\n",
    "    (bc0.alpha * cond.h - 1.5 * bc0.beta)\n",
    "    a[n-3] = 1.0 / cond.h**2 - eq.a.subs(x, (cond.xn - cond.h)) / (2.0 * cond.h) -\\\n",
    "    0.5 * bcn.beta * (1.0 / cond.h**2 + eq.a.subs(x, (cond.xn - cond.h)) / (2.0 * cond.h)) /\\\n",
    "    (bcn.alpha * cond.h + 1.5 * bcn.beta)\n",
    "    b[n-2] = -2.0 / cond.h**2 + eq.b.subs(x, (cond.xn - cond.h)) +\\\n",
    "    2.0 * bcn.beta * (1.0 / cond.h**2 + eq.a.subs(x, (cond.xn - cond.h)) / (2.0 * cond.h)) /\\\n",
    "    (bcn.alpha * cond.h + 1.5 * bcn.beta)\n",
    "    #d\n",
    "    d[0] = eq.c.subs(x, (cond.x0 + cond.h)) -\\\n",
    "    bc0.gamma * (1.0 / cond.h**2 - eq.a.subs(x, (cond.x0 + cond.h)) / (2.0 * cond.h)) /\\\n",
    "    (bc0.alpha - 1.5 * bc0.beta / cond.h)\n",
    "    d[n-2] = eq.c.subs(x, (cond.xn-cond.h)) -\\\n",
    "    bcn.gamma * (1.0 / cond.h**2 + eq.a.subs(x, (cond.xn - cond.h)) / (2.0 * cond.h)) /\\\n",
    "    (bcn.alpha + 1.5 * bcn.beta / cond.h)\n",
    "    for i, xi in enumerate(np.arange(cond.x0 + 2*cond.h, cond.xn - cond.h, cond.h),\\\n",
    "                           start=1):\n",
    "        a[i-1] = 1.0 / cond.h**2 - eq.a.subs(x, xi) / (2.0*cond.h)\n",
    "        b[i] = -2.0 / cond.h**2 + eq.b.subs(x, xi)\n",
    "        c[i] = 1.0 / cond.h**2 + eq.a.subs(x, xi) / (2.0*cond.h)\n",
    "        d[i] = eq.c.subs(x,xi)\n",
    "    \n",
    "    def tridiag(a, b, c, k1=-1, k2=0, k3=1):\n",
    "        return np.diag(a, k1) + np.diag(b, k2) + np.diag(c, k3)\n",
    "    if verbose:\n",
    "        print(\"A={}\".format(tridiag(a,b,c)))\n",
    "        print(\"d={}\".format(d.T))\n",
    "    return (a,b,c,d)"
   ]
  },
  {
   "cell_type": "code",
   "execution_count": 48,
   "metadata": {},
   "outputs": [],
   "source": [
    "def Thomas_Algorithm(coeff, bc0, bcn, cond):\n",
    "    a, b, c, d = coeff\n",
    "    n = int(np.ceil((cond.xn - cond.x0)/cond.h))\n",
    "    c1 = np.zeros((n-2))\n",
    "    d1 = np.zeros((n-1))\n",
    "    c1[0] = c[0]/b[0]\n",
    "    d1[0] = d[0]/b[0]\n",
    "    for i in range(1,n-2):\n",
    "        c1[i] = c[i]/(b[i]-a[i-1]*c1[i-1])\n",
    "        d1[i] = (d[i] - a[i-1] * d1[i-1])/(b[i]-a[i-1]*c1[i-1])\n",
    "    d1[n-2] = (d[n-2] - a[n-3] * d1[n-3])/(b[n-2] - a[n-3]*c1[n-3])\n",
    "    def backsubstitution(c,d):\n",
    "        y = np.zeros_like(d)\n",
    "        y[-1] = d[-1]\n",
    "        cache = y[-1]\n",
    "        for i in reversed(range(d.shape[0]-1)):\n",
    "            y[i] = d[i] - cache * c[i]\n",
    "            cache = y[i]\n",
    "        return y\n",
    "    fin_y = backsubstitution(c1,d1)\n",
    "    y0 = (bc0.gamma - 2.0 * bc0.beta * fin_y[0] / cond.h + 0.5 * bc0.beta * fin_y[1] / cond.h) /\\\n",
    "    (bc0.alpha - 1.5 * bc0.beta / cond.h)\n",
    "    yn = (bcn.gamma + 2.0 * bcn.beta * fin_y[-1] / cond.h - 0.5 * bcn.beta * fin_y[-2] / cond.h) /\\\n",
    "    (bcn.alpha + 1.5 * bcn.beta / cond.h)\n",
    "    y = np.append(fin_y, yn)\n",
    "    y = np.append(y0, y)\n",
    "    return y\n",
    "    "
   ]
  },
  {
   "cell_type": "code",
   "execution_count": 49,
   "metadata": {},
   "outputs": [
    {
     "data": {
      "text/latex": [
       "\\begin{align}\n",
       "\\theta'' -\\lambda\\theta = 0\\\\\n",
       "x \\in (0,1) \\\\\n",
       "\\theta(0) = 1\\\\\n",
       "\\theta'(1) = 0 \\\\\n",
       "\\lambda = 2\n",
       "\\end{align}"
      ],
      "text/plain": [
       "<IPython.core.display.Latex object>"
      ]
     },
     "metadata": {},
     "output_type": "display_data"
    }
   ],
   "source": [
    "%%latex\n",
    "\\begin{align}\n",
    "\\theta'' -\\lambda\\theta = 0\\\\\n",
    "x \\in (0,1) \\\\\n",
    "\\theta(0) = 1\\\\\n",
    "\\theta'(1) = 0 \\\\\n",
    "\\lambda = 2\n",
    "\\end{align}"
   ]
  },
  {
   "cell_type": "code",
   "execution_count": 50,
   "metadata": {},
   "outputs": [],
   "source": [
    "#Equations & Boundary Conditions\n",
    "eqn = Equation(0.0 + 0.0*x,-2.0 + x*0.0,0.0 + 0.0*x)\n",
    "cond = Conditions(0,1,0.25)\n",
    "bc1 = Boundary(1,0,1)\n",
    "bc2 = Boundary(0,1,0)\n",
    "tuples_coeff = Finite_Diff_Solver(eqn, bc1, bc2, cond, verbose=False)\n",
    "y1 = Thomas_Algorithm(tuples_coeff, bc1, bc2, cond)\n",
    "x_range1 = np.arange(cond.x0, cond.xn+cond.h, cond.h)\n",
    "\n",
    "def func(x): #original solution\n",
    "    y = (np.exp((math.sqrt(2.0) * x)) +\\\n",
    "    math.exp((math.sqrt(2.0) * 2.0)) * np.exp((math.sqrt(2.0) * -x))) /\\\n",
    "    (math.exp((math.sqrt(2.0) * 2.0)) + 1.0)\n",
    "    return y"
   ]
  },
  {
   "cell_type": "code",
   "execution_count": 51,
   "metadata": {},
   "outputs": [
    {
     "data": {
      "text/latex": [
       "\\begin{align}\n",
       "y'' -2xy' -2y = -4x\\\\\n",
       "x \\in (0,1) \\\\\n",
       "y(0) - y'(0) = 0\\\\\n",
       "2y(1) - y'(1) = 1\\\\\n",
       "\\end{align}"
      ],
      "text/plain": [
       "<IPython.core.display.Latex object>"
      ]
     },
     "metadata": {},
     "output_type": "display_data"
    }
   ],
   "source": [
    "%%latex\n",
    "\\begin{align}\n",
    "y'' -2xy' -2y = -4x\\\\\n",
    "x \\in (0,1) \\\\\n",
    "y(0) - y'(0) = 0\\\\\n",
    "2y(1) - y'(1) = 1\\\\\n",
    "\\end{align}"
   ]
  },
  {
   "cell_type": "code",
   "execution_count": 63,
   "metadata": {},
   "outputs": [
    {
     "name": "stdout",
     "output_type": "stream",
     "text": [
      "[1.00046932 1.00549668 1.01057407 1.0157015  1.02087898 1.02610655\n",
      " 1.03138424 1.03671209 1.04209015 1.04751847 1.05299712 1.05852617\n",
      " 1.06410571 1.06973581 1.07541658 1.08114811 1.08693052 1.09276392\n",
      " 1.09864844 1.10458421 1.11057137 1.11661007 1.12270047 1.12884274\n",
      " 1.13503704 1.14128356 1.14758248 1.153934   1.16033833 1.16679568\n",
      " 1.17330628 1.17987034 1.18648811 1.19315984 1.19988578 1.2066662\n",
      " 1.21350136 1.22039155 1.22733706 1.23433818 1.24139523 1.24850851\n",
      " 1.25567837 1.26290512 1.27018912 1.27753071 1.28493027 1.29238816\n",
      " 1.29990476 1.30748047 1.31511568 1.32281082 1.33056629 1.33838254\n",
      " 1.34626    1.35419912 1.36220038 1.37026423 1.37839117 1.38658169\n",
      " 1.39483629 1.4031555  1.41153984 1.41998985 1.42850608 1.43708909\n",
      " 1.44573946 1.45445778 1.46324464 1.47210066 1.48102645 1.49002266\n",
      " 1.49908994 1.50822894 1.51744034 1.52672483 1.53608311 1.5455159\n",
      " 1.55502392 1.56460793 1.57426868 1.58400693 1.59382349 1.60371914\n",
      " 1.61369472 1.62375105 1.63388897 1.64410937 1.6544131  1.66480108\n",
      " 1.67527422 1.68583344 1.6964797  1.70721396 1.71803719 1.72895041\n",
      " 1.73995464 1.7510509  1.76224025 1.77352378 1.78490257 1.79637774\n",
      " 1.80795043 1.81962179 1.83139299 1.84326523 1.85523974 1.86731775\n",
      " 1.87950052 1.89178934 1.90418551 1.91669037 1.92930528 1.9420316\n",
      " 1.95487075 1.96782415 1.98089326 1.99407955 2.00738453 2.02080974\n",
      " 2.03435673 2.04802709 2.06182243 2.0757444  2.08979468 2.10397496\n",
      " 2.11828697 2.13273249 2.1473133  2.16203124 2.17688815 2.19188594\n",
      " 2.20702652 2.22231186 2.23774396 2.25332483 2.26905655 2.28494122\n",
      " 2.30098097 2.31717799 2.3335345  2.35005274 2.36673502 2.38358366\n",
      " 2.40060106 2.41778963 2.43515184 2.45269019 2.47040724 2.48830558\n",
      " 2.50638787 2.5246568  2.5431151  2.56176558 2.58061106 2.59965445\n",
      " 2.61889868 2.63834676 2.65800173 2.67786671 2.69794486 2.71823939\n",
      " 2.73875359 2.7594908  2.78045441 2.80164789 2.82307476 2.84473861\n",
      " 2.8666431  2.88879194 2.91118893 2.93383792 2.95674285 2.97990771\n",
      " 3.00333659 3.02703364 3.05100307 3.0752492  3.09977642 3.12458919\n",
      " 3.14969206 3.17508967 3.20078674 3.22678807 3.25309857 3.27972323\n",
      " 3.30666713 3.33393544 3.36153346 3.38946654 3.41774018 3.44635995\n",
      " 3.47533153 3.50466073 3.53435344 3.56441567 3.59485357 3.62567337\n",
      " 3.65688145 3.68848428 3.72048848]\n"
     ]
    }
   ],
   "source": [
    "#Equations & Boundary Conditions\n",
    "eqn = Equation(-2.0*x,-2.0 + x*0.0,-4.0*x)\n",
    "cond = Conditions(0,1,0.005)\n",
    "bc1 = Boundary(1,-1,0)\n",
    "bc2 = Boundary(2,-1,1)\n",
    "tuples_coeff = Finite_Diff_Solver(eqn, bc1, bc2, cond, verbose=False)\n",
    "y2 = Thomas_Algorithm(tuples_coeff, bc1, bc2, cond)\n",
    "x_range2 = np.arange(cond.x0, cond.xn+cond.h, cond.h)\n",
    "print(y2)"
   ]
  },
  {
   "cell_type": "code",
   "execution_count": 41,
   "metadata": {},
   "outputs": [
    {
     "data": {
      "text/latex": [
       "\\begin{align}\n",
       "y'' + y = 0\\\\\n",
       "x \\in (0,1) \\\\\n",
       "y(0) = 0\\\\\n",
       "y(1) = 1\\\\\n",
       "\\end{align}"
      ],
      "text/plain": [
       "<IPython.core.display.Latex object>"
      ]
     },
     "metadata": {},
     "output_type": "display_data"
    }
   ],
   "source": [
    "%%latex\n",
    "\\begin{align}\n",
    "y'' + y = 0\\\\\n",
    "x \\in (0,1) \\\\\n",
    "y(0) = 0\\\\\n",
    "y(1) = 1\\\\\n",
    "\\end{align}"
   ]
  },
  {
   "cell_type": "code",
   "execution_count": 55,
   "metadata": {},
   "outputs": [],
   "source": [
    "eqn = Equation(0.0 + 0.0*x,1.0 + 0.0*x,0.0*x)\n",
    "cond = Conditions(0,1,0.1)\n",
    "bc1 = Boundary(1,0,0)\n",
    "bc2 = Boundary(1,0,1) \n",
    "tuples_coeff = Finite_Diff_Solver(eqn, bc1, bc2, cond, verbose=False)\n",
    "y3 = Thomas_Algorithm(tuples_coeff, bc1, bc2, cond)\n",
    "x_range3 = np.arange(cond.x0, cond.xn+cond.h, cond.h)\n",
    "def func2(x): #original solution\n",
    "    return np.sin(x)/np.sin(1)"
   ]
  },
  {
   "cell_type": "code",
   "execution_count": 60,
   "metadata": {},
   "outputs": [
    {
     "data": {
      "image/png": "[encoded data removed]",
      "text/plain": [
       "<Figure size 720x1152 with 3 Axes>"
      ]
     },
     "metadata": {},
     "output_type": "display_data"
    }
   ],
   "source": [
    "t1 = np.arange(cond.x0, cond.xn, 0.001)\n",
    "\n",
    "#print(x_range)\n",
    "fig = plt.figure(figsize=(10, 16))\n",
    "ax = fig.add_subplot(311)\n",
    "ax.plot(t1, func(t1))\n",
    "ax.set(title=\"BVP h=0.25\", xlabel=\"x\", ylabel=\"y\")\n",
    "ax.scatter(x_range1, y1, color='red')\n",
    "ax.legend(('y','y_0.25'))\n",
    "ax.plot()\n",
    "ax = fig.add_subplot(312)\n",
    "ax.set(title=\"BVP h=0.1\", xlabel=\"x\", ylabel=\"y\")\n",
    "ax.scatter(x_range2, y2, color='red')\n",
    "ax.legend(('y','y_0.1'))\n",
    "ax.plot()\n",
    "ax = fig.add_subplot(313)\n",
    "ax.plot(t1, func2(t1))\n",
    "ax.set(title=\"BVP h=0.1\", xlabel=\"x\", ylabel=\"y\")\n",
    "ax.scatter(x_range3, y3, color='red')\n",
    "ax.legend(('y','y_0.1'))\n",
    "ax.plot()\n",
    "fig.show()"
   ]
  }
 ],
 "metadata": {
  "kernelspec": {
   "display_name": "Python 3",
   "language": "python",
   "name": "python3"
  },
  "language_info": {
   "codemirror_mode": {
    "name": "ipython",
    "version": 2
   },
   "file_extension": ".py",
   "mimetype": "text/x-python",
   "name": "python",
   "nbconvert_exporter": "python",
   "pygments_lexer": "ipython2",
   "version": "2.7.15"
  }
 },
 "nbformat": 4,
 "nbformat_minor": 2
}
