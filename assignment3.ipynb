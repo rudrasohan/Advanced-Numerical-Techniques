{
 "cells": [
  {
   "cell_type": "markdown",
   "metadata": {},
   "source": [
    "### Name: Sohan Rudra\n",
    "### Roll No: 16MA20054"
   ]
  },
  {
   "cell_type": "code",
   "execution_count": 57,
   "metadata": {},
   "outputs": [],
   "source": [
    "#library imports\n",
    "import math\n",
    "from collections import namedtuple\n",
    "import numpy as np\n",
    "from sympy import symbols\n",
    "import matplotlib.pyplot as plt"
   ]
  },
  {
   "cell_type": "code",
   "execution_count": 58,
   "metadata": {},
   "outputs": [],
   "source": [
    "#some boilerplate code\n",
    "x = symbols('x')\n",
    "Equation = namedtuple('Equation',('a','b','c'))\n",
    "Conditions = namedtuple('Conditions',('x0','xn','h'))\n",
    "Boundary = namedtuple('Boundary', ('alpha', 'beta', 'gamma'))"
   ]
  },
  {
   "cell_type": "code",
   "execution_count": 59,
   "metadata": {},
   "outputs": [],
   "source": [
    "def Finite_Diff_Solver(eq, bc0, bcn, cond, verbose=True):\n",
    "    n = int(np.ceil((cond.xn - cond.x0)/cond.h))\n",
    "    a, b, c, d = np.zeros((n)), np.zeros((n+1)), np.zeros((n)), np.zeros((n+1))\n",
    "    #A\n",
    "    b[0] = -2.0 / cond.h**2 + eq.b.subs(x, cond.x0) +\\\n",
    "    (1.0 / cond.h**2 - eq.a.subs(x, cond.x0) / (2.0 * cond.h)) * 2.0 * cond.h * bc0.alpha /\\\n",
    "    bc0.beta\n",
    "    c[0] = 2.0 / cond.h**2 \n",
    "\n",
    "    a[n-1] = 2.0 / cond.h**2 \n",
    "    b[n] = -2.0 / cond.h**2 + eq.b.subs(x, cond.xn) -\\\n",
    "    (1.0 / cond.h**2 + eq.a.subs(x, cond.xn) / (2.0 * cond.h)) * 2.0 * cond.h * bcn.alpha /\\\n",
    "    bcn.beta\n",
    "    \n",
    "    #d\n",
    "    d[0] = eq.c.subs(x,cond.x0) +\\\n",
    "    (1.0 / cond.h**2 - eq.a.subs(x, cond.x0) / (2.0 * cond.h)) * 2.0 * cond.h * bc0.gamma /\\\n",
    "    bc0.beta\n",
    "    d[n] = eq.c.subs(x, cond.xn) -\\\n",
    "    (1.0 / cond.h**2 + eq.a.subs(x, cond.xn) / (2.0 * cond.h)) * 2.0 * cond.h * bcn.gamma /\\\n",
    "    bc0.beta\n",
    "    for i, xi in enumerate(np.arange(cond.x0 + cond.h, cond.xn, cond.h),\\\n",
    "                           start=1):\n",
    "        a[i-1] = 1.0 / cond.h**2 - eq.a.subs(x,xi) / (2.0*cond.h)\n",
    "        b[i] = -2.0 / cond.h**2 + eq.b\n",
    "        c[i] = 1.0 / cond.h**2 + eq.a.subs(x,xi) / (2.0*cond.h)\n",
    "        d[i] = eq.c.subs(x,xi)\n",
    "    \n",
    "    def tridiag(a, b, c, k1=-1, k2=0, k3=1):\n",
    "        return np.diag(a, k1) + np.diag(b, k2) + np.diag(c, k3)\n",
    "    if verbose:\n",
    "        print(\"A={}\".format(tridiag(a,b,c)))\n",
    "        print(\"d={}\".format(d.T))\n",
    "    return (a,b,c,d)"
   ]
  },
  {
   "cell_type": "code",
   "execution_count": 22,
   "metadata": {},
   "outputs": [],
   "source": [
    "def Thomas_Algorithm(coeff, bc0, bcn, cond):\n",
    "    a, b, c, d = coeff\n",
    "    n = b.shape[0] + 1\n",
    "    c1 = np.zeros((n-2))\n",
    "    d1 = np.zeros((n-1))\n",
    "    c1[0] = c[0]/b[0]\n",
    "    d1[0] = d[0]/b[0]\n",
    "    for i in range(1,n-2):\n",
    "        c1[i] = c[i]/(b[i]-a[i-1]*c1[i-1])\n",
    "        d1[i] = (d[i] - a[i-1] * d1[i-1])/(b[i]-a[i-1]*c1[i-1])\n",
    "    d1[n-2] = (d[n-2] - a[n-3] * d1[n-3])/(b[n-2] - a[n-3]*c1[n-3])\n",
    "    def backsubstitution(c,d):\n",
    "        y = np.zeros_like(d)\n",
    "        y[-1] = d[-1]\n",
    "        cache = y[-1]\n",
    "        for i in reversed(range(d.shape[0]-1)):\n",
    "            y[i] = d[i] - cache * c[i]\n",
    "            cache = y[i]\n",
    "        return y\n",
    "    fin_y = backsubstitution(c1,d1)\n",
    "    return fin_y\n",
    "    "
   ]
  },
  {
   "cell_type": "code",
   "execution_count": 62,
   "metadata": {},
   "outputs": [
    {
     "data": {
      "text/latex": [
       "\\begin{align}\n",
       "y'' -2xy' -2y = -4x\\\\\n",
       "x \\in (0,1) \\\\\n",
       "y(0) - y'(0) = 0\\\\\n",
       "2y(1) - y'(1) = 1\\\\\n",
       "\\end{align}"
      ],
      "text/plain": [
       "<IPython.core.display.Latex object>"
      ]
     },
     "metadata": {},
     "output_type": "display_data"
    }
   ],
   "source": [
    "%%latex\n",
    "\\begin{align}\n",
    "y'' -2xy' -2y = -4x\\\\\n",
    "x \\in (0,1) \\\\\n",
    "y(0) - y'(0) = 0\\\\\n",
    "2y(1) - y'(1) = 1\\\\\n",
    "\\end{align}"
   ]
  },
  {
   "cell_type": "code",
   "execution_count": 63,
   "metadata": {
    "scrolled": true
   },
   "outputs": [
    {
     "name": "stdout",
     "output_type": "stream",
     "text": [
      "A=[[-222.  200.    0.    0.    0.    0.    0.    0.    0.    0.    0.]\n",
      " [ 101. -202.   99.    0.    0.    0.    0.    0.    0.    0.    0.]\n",
      " [   0.  102. -202.   98.    0.    0.    0.    0.    0.    0.    0.]\n",
      " [   0.    0.  103. -202.   97.    0.    0.    0.    0.    0.    0.]\n",
      " [   0.    0.    0.  104. -202.   96.    0.    0.    0.    0.    0.]\n",
      " [   0.    0.    0.    0.  105. -202.   95.    0.    0.    0.    0.]\n",
      " [   0.    0.    0.    0.    0.  106. -202.   94.    0.    0.    0.]\n",
      " [   0.    0.    0.    0.    0.    0.  107. -202.   93.    0.    0.]\n",
      " [   0.    0.    0.    0.    0.    0.    0.  108. -202.   92.    0.]\n",
      " [   0.    0.    0.    0.    0.    0.    0.    0.  109. -202.   91.]\n",
      " [   0.    0.    0.    0.    0.    0.    0.    0.    0.  200. -166.]]\n",
      "d=[ 0.  -0.4 -0.8 -1.2 -1.6 -2.  -2.4 -2.8 -3.2 -3.6 14. ]\n"
     ]
    }
   ],
   "source": [
    "#Equations & Boundary Conditions\n",
    "eqn = Equation(-2.0*x,-2.0 + x*0.0,-4.0*x)\n",
    "cond = Conditions(0,1,0.1)\n",
    "bc1 = Boundary(1,-1,0)\n",
    "bc2 = Boundary(2,-1,1)\n",
    "tuples_coeff = Finite_Diff_Solver(eqn, bc1, bc2, cond, verbose=True)\n",
    "y2 = Thomas_Algorithm(tuples_coeff, bc1, bc2, cond)\n",
    "x_range2 = np.arange(cond.x0, cond.xn+cond.h, cond.h)"
   ]
  },
  {
   "cell_type": "code",
   "execution_count": 67,
   "metadata": {},
   "outputs": [
    {
     "name": "stdout",
     "output_type": "stream",
     "text": [
      "[0.92880984 1.03097892 1.15199948 1.29330658 1.45764931 1.64938829\n",
      " 1.87498165 2.14373548 2.46894118 2.86959443 3.37300534]\n"
     ]
    }
   ],
   "source": [
    "print(y2)"
   ]
  },
  {
   "cell_type": "code",
   "execution_count": 65,
   "metadata": {},
   "outputs": [
    {
     "data": {
      "image/png": "[encoded data removed]",
      "text/plain": [
       "<Figure size 720x1152 with 1 Axes>"
      ]
     },
     "metadata": {},
     "output_type": "display_data"
    }
   ],
   "source": [
    "t1 = np.arange(cond.x0, cond.xn, 0.001)\n",
    "\n",
    "#print(x_range)\n",
    "fig = plt.figure(figsize=(10, 16))\n",
    "ax = fig.add_subplot(311)\n",
    "ax.set(title=\"BVP h=0.1\", xlabel=\"x\", ylabel=\"y\")\n",
    "ax.scatter(x_range2, y2, color='red')\n",
    "ax.legend(('y','y_0.1'))\n",
    "ax.plot()\n",
    "fig.show()"
   ]
  }
 ],
 "metadata": {
  "kernelspec": {
   "display_name": "Python 3",
   "language": "python",
   "name": "python3"
  },
  "language_info": {
   "codemirror_mode": {
    "name": "ipython",
    "version": 2
   },
   "file_extension": ".py",
   "mimetype": "text/x-python",
   "name": "python",
   "nbconvert_exporter": "python",
   "pygments_lexer": "ipython2",
   "version": "2.7.15"
  }
 },
 "nbformat": 4,
 "nbformat_minor": 2
}
