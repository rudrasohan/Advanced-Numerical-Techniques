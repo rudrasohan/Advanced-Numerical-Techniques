{
 "cells": [
  {
   "cell_type": "markdown",
   "metadata": {},
   "source": [
    "### Name: Sohan Rudra\n",
    "### Roll No: 16MA20054"
   ]
  },
  {
   "cell_type": "code",
   "execution_count": 119,
   "metadata": {},
   "outputs": [],
   "source": [
    "#library imports\n",
    "import math\n",
    "from collections import namedtuple\n",
    "import numpy as np\n",
    "from numpy.linalg import inv\n",
    "from sympy import symbols\n",
    "import matplotlib.pyplot as plt"
   ]
  },
  {
   "cell_type": "code",
   "execution_count": 120,
   "metadata": {},
   "outputs": [],
   "source": [
    "#some boilerplate code\n",
    "x = symbols('x')\n",
    "Equation = namedtuple('Equation',('a','b'))\n",
    "Conditions = namedtuple('Conditions',('x0','xn','y0','z0','zn','h'))"
   ]
  },
  {
   "cell_type": "code",
   "execution_count": 121,
   "metadata": {},
   "outputs": [
    {
     "data": {
      "text/latex": [
       "\\begin{align}\n",
       "y^{3} + 4y'' + y' - 6y = 1\\\\\n",
       "x \\in (0, 1) \\\\\n",
       "y(0) = 0\\\\\n",
       "y'(0) = 0\\\\\n",
       "y'(1) = 1\\\\\n",
       "\\end{align}"
      ],
      "text/plain": [
       "<IPython.core.display.Latex object>"
      ]
     },
     "metadata": {},
     "output_type": "display_data"
    }
   ],
   "source": [
    "%%latex\n",
    "\\begin{align}\n",
    "y^{3} + 4y'' + y' - 6y = 1\\\\\n",
    "x \\in (0, 1) \\\\\n",
    "y(0) = 0\\\\\n",
    "y'(0) = 0\\\\\n",
    "y'(1) = 1\\\\\n",
    "\\end{align}"
   ]
  },
  {
   "cell_type": "code",
   "execution_count": 122,
   "metadata": {},
   "outputs": [],
   "source": [
    "def FiniteDiffSolver(cond, verbose=True):\n",
    "    n = int(np.ceil((cond.xn - cond.x0)/cond.h))\n",
    "    a, b, c, d = np.zeros((n-2, 2, 2)), np.zeros((n-1, 2, 2)), np.zeros((n-2, 2, 2)), np.zeros((n-1, 2))\n",
    "    #A\n",
    "    b[0] = np.array([[1.0, -cond.h/2.0], [-6.0, (1 - 2.0/cond.h**2)]])\n",
    "    c[0] = np.array([[0.0, 0.0], [0.0, (1.0/cond.h**2 + 2.0/cond.h)]])\n",
    "    b[n-2] = np.array([[1.0, -cond.h/2.0], [-6.0, (1.0 - 2.0/cond.h**2)]])\n",
    "    a[n-3] = np.array([[-1.0, -cond.h/2.0], [0.0, (1.0/cond.h**2 - 2.0/cond.h)]])\n",
    "    #d\n",
    "    d[0] = np.array([0.0, 1.0])\n",
    "    d[n-2] = np.array([0.0, (1.0 - (1.0/cond.h**2 + 2.0/cond.h))]) \n",
    "    for i, xi in enumerate(np.arange(cond.x0 + 2*cond.h, cond.xn - cond.h, cond.h),\\\n",
    "                           start=1):\n",
    "        a[i-1] = np.array([[-1.0, -cond.h/2.0], [0.0, (1.0/cond.h**2 - 2.0/cond.h)]])\n",
    "        b[i] = np.array([[1.0, -cond.h/2.0], [-6.0, (1.0 - 2.0/cond.h**2)]])\n",
    "        c[i] = np.array([[0.0, 0.0], [0.0, (1.0/cond.h**2 + 2.0/cond.h)]])\n",
    "        d[i] = np.array([0.0, 1.0])\n",
    "        \n",
    "    if verbose:\n",
    "        print(\"A={}, B={}, C={}, D={}\".format(a,b,c,d))\n",
    "        \n",
    "    return (a,b,c,d)"
   ]
  },
  {
   "cell_type": "code",
   "execution_count": 123,
   "metadata": {},
   "outputs": [],
   "source": [
    "def Thomas_Algorithm(coeff, cond):\n",
    "    a, b, c, d = coeff\n",
    "    n = int(np.ceil((cond.xn - cond.x0)/cond.h))\n",
    "    c1 = np.zeros((n-2, 2, 2))\n",
    "    d1 = np.zeros((n-1, 2))\n",
    "    c1[0] = inv(b[0]).dot(c[0])\n",
    "    d1[0] = inv(b[0]).dot(d[0])\n",
    "    #print(d1.shape)\n",
    "    for i in range(1,n-2):\n",
    "        t1 = b[i]-a[i-1].dot(c1[i-1])\n",
    "        c1[i] = inv(t1).dot(c[i])\n",
    "        d1[i] = inv(t1).dot(d[i] - a[i-1].dot(d1[i-1]))\n",
    "    d1[n-2] = inv(b[n-2] - a[n-3].dot(c1[n - 3])).dot(d[n-2] - a[n-3].dot(d1[n-3]))\n",
    "    def backsubstitution(c,d):\n",
    "        y = np.zeros_like(d)\n",
    "        y[-1] = d[-1]\n",
    "        cache = y[-1]\n",
    "        #print(cache.shape)\n",
    "        for i in reversed(range(d.shape[0]-1)):\n",
    "            y[i] = d[i] - c[i].dot(cache)\n",
    "            cache = y[i]\n",
    "        return y\n",
    "    fin_y = backsubstitution(c1,d1)\n",
    "    #print(fin_y)\n",
    "    yn = fin_y.T[0][-1] + cond.h/2.0 * (fin_y.T[1][-1] + cond.zn)\n",
    "    #print(fin_y.T[1])\n",
    "    y = np.append(fin_y.T[0], yn)\n",
    "    y = np.append(cond.y0, y)\n",
    "    return y"
   ]
  },
  {
   "cell_type": "code",
   "execution_count": 124,
   "metadata": {},
   "outputs": [],
   "source": [
    "cond = Conditions(0, 1, 0, 0, 1, 0.1)\n",
    "ans = FiniteDiffSolver(cond, verbose=False)\n",
    "y1 = Thomas_Algorithm(ans, cond)\n",
    "x_range1 = np.arange(cond.x0, cond.xn+cond.h, cond.h)\n",
    "cond = Conditions(0, 1, 0, 0, 1, 0.05)\n",
    "ans = FiniteDiffSolver(cond, verbose=False)\n",
    "y2 = Thomas_Algorithm(ans, cond)\n",
    "x_range2 = np.arange(cond.x0, cond.xn+cond.h, cond.h)\n",
    "cond = Conditions(0, 1, 0, 0, 1, 0.01)\n",
    "ans = FiniteDiffSolver(cond, verbose=False)\n",
    "y3 = Thomas_Algorithm(ans, cond)\n",
    "x_range3 = np.arange(cond.x0, cond.xn+cond.h, cond.h)"
   ]
  },
  {
   "cell_type": "code",
   "execution_count": 125,
   "metadata": {},
   "outputs": [
    {
     "data": {
      "image/png": "[encoded data removed]",
      "text/plain": [
       "<Figure size 720x1152 with 3 Axes>"
      ]
     },
     "metadata": {},
     "output_type": "display_data"
    }
   ],
   "source": [
    "t1 = np.arange(cond.x0, cond.xn, 0.001)\n",
    "fig = plt.figure(figsize=(10, 16))\n",
    "ax = fig.add_subplot(311)\n",
    "ax.set(title=\"BVP h=0.1\", xlabel=\"x\", ylabel=\"y\")\n",
    "ax.scatter(x_range1, y1, color='red')\n",
    "ax = fig.add_subplot(312)\n",
    "ax.set(title=\"BVP h=0.05\", xlabel=\"x\", ylabel=\"y\")\n",
    "ax.scatter(x_range2, y2, color='blue')\n",
    "ax = fig.add_subplot(313)\n",
    "ax.set(title=\"BVP h=0.01\", xlabel=\"x\", ylabel=\"y\")\n",
    "ax.scatter(x_range3, y3, color='green')\n",
    "ax.plot()\n",
    "fig.show()"
   ]
  }
 ],
 "metadata": {
  "kernelspec": {
   "display_name": "Python 2",
   "language": "python",
   "name": "python2"
  },
  "language_info": {
   "codemirror_mode": {
    "name": "ipython",
    "version": 2
   },
   "file_extension": ".py",
   "mimetype": "text/x-python",
   "name": "python",
   "nbconvert_exporter": "python",
   "pygments_lexer": "ipython2",
   "version": "2.7.15"
  }
 },
 "nbformat": 4,
 "nbformat_minor": 2
}
