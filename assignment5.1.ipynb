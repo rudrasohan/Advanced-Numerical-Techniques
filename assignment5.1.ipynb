{
 "cells": [
  {
   "cell_type": "markdown",
   "metadata": {},
   "source": [
    "### Name: Sohan Rudra\n",
    "### Roll No: 16MA20054"
   ]
  },
  {
   "cell_type": "code",
   "execution_count": 1,
   "metadata": {},
   "outputs": [],
   "source": [
    "#library imports\n",
    "import math\n",
    "from collections import namedtuple\n",
    "from fractions import Fraction \n",
    "from copy import copy\n",
    "import numpy as np\n",
    "from numpy.linalg import inv\n",
    "from sympy import symbols\n",
    "import matplotlib.pyplot as plt"
   ]
  },
  {
   "cell_type": "code",
   "execution_count": 2,
   "metadata": {},
   "outputs": [],
   "source": [
    "#some boilerplate code\n",
    "Conditions = namedtuple('Conditions',('x0','xn','y0','yn','h','e'))"
   ]
  },
  {
   "cell_type": "code",
   "execution_count": 3,
   "metadata": {
    "scrolled": true
   },
   "outputs": [
    {
     "data": {
      "text/latex": [
       "\\begin{align}\n",
       "y'' -(y)^{2} -2 = 0\\\\\n",
       "x \\in (0,1) \\\\\n",
       "y(0) = 0\\\\\n",
       "y(1)= 0\\\\\n",
       "\\end{align}"
      ],
      "text/plain": [
       "<IPython.core.display.Latex object>"
      ]
     },
     "metadata": {},
     "output_type": "display_data"
    }
   ],
   "source": [
    "%%latex\n",
    "\\begin{align}\n",
    "y'' -(y)^{2} -2 = 0\\\\\n",
    "x \\in (0,1) \\\\\n",
    "y(0) = 0\\\\\n",
    "y(1)= 0\\\\\n",
    "\\end{align}"
   ]
  },
  {
   "cell_type": "code",
   "execution_count": 4,
   "metadata": {},
   "outputs": [],
   "source": [
    "def initializer(x):\n",
    "    return x*(1-x)"
   ]
  },
  {
   "cell_type": "code",
   "execution_count": 6,
   "metadata": {},
   "outputs": [],
   "source": [
    "def Finite_Diff_Solver(cond, y_k, verbose=True):\n",
    "    n = int(np.ceil((cond.xn - cond.x0)/cond.h))\n",
    "    a, b, c, d = np.zeros((n-2)), np.zeros((n-1)), np.zeros((n-2)), np.zeros((n-1))\n",
    "    #A\n",
    "    b[0] = 2.0 * (-1.0/cond.h**2 + y_k[1])\n",
    "    c[0] = 1.0/cond.h**2\n",
    "    \n",
    "    a[n-3] = 1.0/cond.h**2\n",
    "    b[n-2] = 2.0 * (-1.0/cond.h**2 + y_k[-2])\n",
    "    #d\n",
    "    d[0] = 3 * y_k[1]**2 + 2\n",
    "    d[n-2] = 3 * y_k[-2]**2 + 2\n",
    "    for i, xi in enumerate(np.arange(cond.x0 + 2.0*cond.h, cond.xn - cond.h, cond.h),\\\n",
    "                           start=1):\n",
    "        if (abs((cond.x0 + 2.0*cond.h) - (cond.xn - cond.h)) < 1e-7):\n",
    "            continue\n",
    "        a[i-1] = 1.0 / cond.h**2\n",
    "        b[i] = 2.0 * (-1.0/cond.h**2 + y_k[i+1])\n",
    "        c[i] = 1.0 / cond.h**2\n",
    "        d[i] = 3 * y_k[i+1]**2 + 2\n",
    "        \n",
    "    def tridiag(a, b, c, k1=-1, k2=0, k3=1):\n",
    "        return np.diag(a, k1) + np.diag(b, k2) + np.diag(c, k3)\n",
    "    if verbose:\n",
    "        print(\"A={}\".format(tridiag(a,b,c)))\n",
    "        print(\"d={}\".format(d.T))\n",
    "        \n",
    "    return(a,b,c,d)"
   ]
  },
  {
   "cell_type": "code",
   "execution_count": 14,
   "metadata": {},
   "outputs": [],
   "source": [
    "def Thomas_Algorithm(coeff, cond):\n",
    "    a, b, c, d = coeff\n",
    "    n = int(np.ceil((cond.xn - cond.x0)/cond.h))\n",
    "    c1 = np.zeros((n-2))\n",
    "    d1 = np.zeros((n-1))\n",
    "    c1[0] = c[0]/b[0]\n",
    "    d1[0] = d[0]/b[0]\n",
    "    for i in range(1,n-2):\n",
    "        c1[i] = c[i]/(b[i]-a[i-1]*c1[i-1])\n",
    "        d1[i] = (d[i] - a[i-1] * d1[i-1])/(b[i]-a[i-1]*c1[i-1])\n",
    "    d1[n-2] = (d[n-2] - a[n-3] * d1[n-3])/(b[n-2] - a[n-3]*c1[n-3])\n",
    "    def backsubstitution(c,d):\n",
    "        y = np.zeros_like(d)\n",
    "        y[-1] = d[-1]\n",
    "        cache = y[-1]\n",
    "        for i in reversed(range(d.shape[0]-1)):\n",
    "            y[i] = d[i] - cache * c[i]\n",
    "            cache = y[i]\n",
    "        return y\n",
    "    fin_y = backsubstitution(c1,d1)\n",
    "    #print(fin_y)\n",
    "    y = np.append(fin_y, cond.yn)\n",
    "    y = np.append(cond.y0, y)\n",
    "    return y"
   ]
  },
  {
   "cell_type": "code",
   "execution_count": 8,
   "metadata": {},
   "outputs": [],
   "source": [
    "def Newton_Solver(cond):\n",
    "    n = int(np.ceil((cond.xn - cond.x0)/cond.h))\n",
    "    print(n)\n",
    "    y_k = np.arange(cond.x0, cond.xn + cond.h, cond.h)\n",
    "    #print(y_k)\n",
    "    #print(initializer(y_k))\n",
    "    solutions = []\n",
    "    y_k = initializer(y_k)\n",
    "    tuples_coeff = Finite_Diff_Solver(cond, y_k, verbose=False)\n",
    "    y_k1 = Thomas_Algorithm(tuples_coeff, cond)\n",
    "    s = np.max(abs(y_k1 - y_k))\n",
    "    y_k = y_k1\n",
    "    while(s > cond.e):\n",
    "        y_k = copy(y_k1)\n",
    "        solutions.append(y_k)\n",
    "        tuples_coeff = Finite_Diff_Solver(cond, y_k, verbose=False)\n",
    "        y_k1 = Thomas_Algorithm(tuples_coeff, cond)\n",
    "        s = np.max(abs(y_k1 - y_k))\n",
    "        #print(s)\n",
    "        \n",
    "    y_k = y_k1\n",
    "    solutions.append(y_k)\n",
    "    return solutions"
   ]
  },
  {
   "cell_type": "code",
   "execution_count": 9,
   "metadata": {},
   "outputs": [],
   "source": [
    "cond = Conditions(0.0,1.0,0.0,0.0,Fraction(1,10),0.001)"
   ]
  },
  {
   "cell_type": "code",
   "execution_count": 10,
   "metadata": {},
   "outputs": [
    {
     "name": "stdout",
     "output_type": "stream",
     "text": [
      "10\n",
      "4\n"
     ]
    }
   ],
   "source": [
    "y = Newton_Solver(cond)\n",
    "print(len(y))\n",
    "x_range = np.arange(cond.x0, cond.xn+cond.h, cond.h)"
   ]
  },
  {
   "cell_type": "code",
   "execution_count": 13,
   "metadata": {},
   "outputs": [
    {
     "name": "stderr",
     "output_type": "stream",
     "text": [
      "/usr/local/lib/python3.5/dist-packages/matplotlib/figure.py:403: UserWarning: matplotlib is currently using a non-GUI backend, so cannot show the figure\n",
      "  \"matplotlib is currently using a non-GUI backend, \"\n"
     ]
    },
    {
     "data": {
      "image/png": "[encoded data removed]",
      "text/plain": [
       "<matplotlib.figure.Figure at 0x7f94b55d8438>"
      ]
     },
     "metadata": {},
     "output_type": "display_data"
    }
   ],
   "source": [
    "t1 = np.arange(cond.x0, cond.xn, 0.001)\n",
    "fig = plt.figure(figsize=(10, 20))\n",
    "ax = fig.add_subplot(311)\n",
    "g = []\n",
    "for i in range(len(y)):\n",
    "    ax.plot(x_range, y[i])\n",
    "    ax.scatter(x_range, y[i])\n",
    "    g.append(\"iter\"+str(i))\n",
    "ax.legend(tuple(g))\n",
    "fig.show()"
   ]
  }
 ],
 "metadata": {
  "kernelspec": {
   "display_name": "Python 3",
   "language": "python",
   "name": "python3"
  },
  "language_info": {
   "codemirror_mode": {
    "name": "ipython",
    "version": 3
   },
   "file_extension": ".py",
   "mimetype": "text/x-python",
   "name": "python",
   "nbconvert_exporter": "python",
   "pygments_lexer": "ipython3",
   "version": "3.5.2"
  }
 },
 "nbformat": 4,
 "nbformat_minor": 2
}
